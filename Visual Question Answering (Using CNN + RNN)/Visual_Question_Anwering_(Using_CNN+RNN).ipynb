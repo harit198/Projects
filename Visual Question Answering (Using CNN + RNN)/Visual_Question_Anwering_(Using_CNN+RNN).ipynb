{
  "nbformat": 4,
  "nbformat_minor": 0,
  "metadata": {
    "colab": {
      "name": "Visual Question Anwering (Using CNN+RNN).ipynb",
      "provenance": [],
      "collapsed_sections": []
    },
    "kernelspec": {
      "name": "python3",
      "display_name": "Python 3"
    },
    "accelerator": "GPU"
  },
  "cells": [
    {
      "cell_type": "markdown",
      "metadata": {
        "id": "uw_ep8M2stma",
        "colab_type": "text"
      },
      "source": [
        "**Dataset**\n",
        "\n",
        "In total, easy-VQA contains 5k images and ~50k questions, split into training (80%) and testing (20%) sets. The questions have 13 possible answers:"
      ]
    },
    {
      "cell_type": "markdown",
      "metadata": {
        "id": "0J0RQVWCtMXg",
        "colab_type": "text"
      },
      "source": [
        "**The Approach**\n",
        "\n",
        "The standard approach to performing VQA looks something like this:\n",
        "\n",
        "1. Process the image.\n",
        "2. Process the question.\n",
        "3. Combine features from steps 1/2.\n",
        "4. Assign probabilities to each possible answer.\n"
      ]
    },
    {
      "cell_type": "code",
      "metadata": {
        "id": "6L5teKYI7sDK",
        "colab_type": "code",
        "colab": {
          "base_uri": "https://localhost:8080/",
          "height": 102
        },
        "outputId": "833b0878-889c-440d-f5ff-bc4161084bf9"
      },
      "source": [
        "pip install easy-vqa"
      ],
      "execution_count": 1,
      "outputs": [
        {
          "output_type": "stream",
          "text": [
            "Collecting easy-vqa\n",
            "\u001b[?25l  Downloading https://files.pythonhosted.org/packages/32/e7/dbdd733ea110ff04c8b0b7ce7d49acce06f1dd18ed304d9f8f9b3f26c1a3/easy_vqa-1.0-py3-none-any.whl (3.2MB)\n",
            "\u001b[K     |████████████████████████████████| 3.2MB 2.6MB/s \n",
            "\u001b[?25hInstalling collected packages: easy-vqa\n",
            "Successfully installed easy-vqa-1.0\n"
          ],
          "name": "stdout"
        }
      ]
    },
    {
      "cell_type": "markdown",
      "metadata": {
        "id": "ri-pWnpm3Gje",
        "colab_type": "text"
      },
      "source": [
        " **The Image Model**\n",
        "\n",
        "First up: our image model. We’ll build a Convolutional Neural Network (CNN) to extract information from the image input. "
      ]
    },
    {
      "cell_type": "markdown",
      "metadata": {
        "id": "0CFpGLob30wW",
        "colab_type": "text"
      },
      "source": [
        "This code uses Keras’s Model (functional) API. We’re not using Keras’s Sequential model API because we’ll need to combine our image model and our question model later "
      ]
    },
    {
      "cell_type": "code",
      "metadata": {
        "id": "mQ5LRq366hf9",
        "colab_type": "code",
        "colab": {
          "base_uri": "https://localhost:8080/",
          "height": 34
        },
        "outputId": "4316d48f-c5dc-4f48-834e-a7f2a3b34bf9"
      },
      "source": [
        "from keras.layers import Input, Conv2D, MaxPooling2D, Flatten,Dense\n",
        "\n",
        "# The CNN\n",
        "im_input = Input(shape=(64, 64,3))\n",
        "x1 = Conv2D(8, 3, padding='same')(im_input)\n",
        "x1 = MaxPooling2D()(x1)\n",
        "x1 = Conv2D(16, 3, padding='same')(x1)\n",
        "x1 = MaxPooling2D()(x1)\n",
        "x1 = Flatten()(x1)\n",
        "# Add a final fully-connected layer after the CNN for good measure\n",
        "x1 = Dense(32, activation='tanh')(x1)"
      ],
      "execution_count": 2,
      "outputs": [
        {
          "output_type": "stream",
          "text": [
            "Using TensorFlow backend.\n"
          ],
          "name": "stderr"
        }
      ]
    },
    {
      "cell_type": "markdown",
      "metadata": {
        "id": "hnbEXjIB4LG5",
        "colab_type": "text"
      },
      "source": [
        " **The Question Model**\n",
        "\n",
        "Next up: our question model. Most VQA models would use some kind of Recurrent Neural Network (RNN) to process the question input, but that’s a little overkill for our use case. The questions in the easy-VQA dataset are short, simple, and come from a fixed set of question templates, so they’re much more approachable compared to those you might see in the real world."
      ]
    },
    {
      "cell_type": "code",
      "metadata": {
        "id": "VKKlwDPi7Zia",
        "colab_type": "code",
        "colab": {
          "base_uri": "https://localhost:8080/",
          "height": 51
        },
        "outputId": "6a50f9b9-5fc7-45f1-c932-03363a6c72ae"
      },
      "source": [
        "from easy_vqa import get_train_questions, get_test_questions\n",
        "from keras.preprocessing.text import Tokenizer\n",
        "\n",
        "# Read questions\n",
        "# train_qs and test_qs are just arrays of question strings\n",
        "# (we'll use the other variables later)\n",
        "train_qs, _, _ = get_train_questions()\n",
        "test_qs, _, _ = get_test_questions()\n",
        "\n",
        "# Fit tokenizer on the training questions\n",
        "tokenizer = Tokenizer()\n",
        "tokenizer.fit_on_texts(train_qs)\n",
        "\n",
        "# Convert questions to BOW\n",
        "train_X_seqs = tokenizer.texts_to_matrix(train_qs)\n",
        "test_X_seqs = tokenizer.texts_to_matrix(test_qs)\n",
        "\n",
        "# Example BOW:\n",
        "# [0 0 1 1 0 1 0 0 1 0 0 1 1 0 0 0 0 0 0 0 0 0 0 0 0 0 0]\n",
        "print(train_X_seqs[0])"
      ],
      "execution_count": 3,
      "outputs": [
        {
          "output_type": "stream",
          "text": [
            "[0. 1. 1. 1. 0. 0. 0. 0. 1. 0. 0. 0. 0. 0. 0. 0. 0. 0. 0. 0. 0. 0. 0. 0.\n",
            " 0. 1. 0.]\n"
          ],
          "name": "stdout"
        }
      ]
    },
    {
      "cell_type": "code",
      "metadata": {
        "id": "-qTCSajR7qip",
        "colab_type": "code",
        "colab": {}
      },
      "source": [
        "# We add one because the Keras Tokenizer reserves index 0 and never uses it.\n",
        "vocab_size = len(tokenizer.word_index) + 1\n",
        "\n",
        "# The question network\n",
        "q_input = Input(shape=(vocab_size,))\n",
        "x2 = Dense(32, activation='tanh')(q_input)\n",
        "x2 = Dense(32, activation='tanh')(x2)"
      ],
      "execution_count": 4,
      "outputs": []
    },
    {
      "cell_type": "markdown",
      "metadata": {
        "id": "VwZKv44q4-aT",
        "colab_type": "text"
      },
      "source": [
        " **The Merge**\n",
        "\n",
        "We’ll use a very simple method to merge our image and question vectors: element-wise multiplication. Implementing this is a one-liner with Keras’s Multiply merge layer:"
      ]
    },
    {
      "cell_type": "code",
      "metadata": {
        "id": "_3oe5n5C7Zn_",
        "colab_type": "code",
        "colab": {}
      },
      "source": [
        "from keras.layers import Multiply\n",
        "\n",
        "# The CNN\n",
        "#x1 = # ... code from above\n",
        "\n",
        "# The question network\n",
        "#x2 = # ... code from above\n",
        "\n",
        "out = Multiply()([x1, x2])"
      ],
      "execution_count": 5,
      "outputs": []
    },
    {
      "cell_type": "markdown",
      "metadata": {
        "id": "Bl862JST5eAK",
        "colab_type": "text"
      },
      "source": [
        "**The Output**\n",
        "\n",
        "Finally, it’s time for our VQA system to produce an answer. Recall that we’re working with a fixed answer set: we know all possible answers and exactly one is guaranteed to be correct.\n",
        "For this step, we’ll use Softmax to turn our output values into probabilities so we can quantify how sure we are about each possible answer."
      ]
    },
    {
      "cell_type": "code",
      "metadata": {
        "id": "2-0kAmkb7ZlU",
        "colab_type": "code",
        "colab": {}
      },
      "source": [
        "# Merge -> output\n",
        "out = Multiply()([x1, x2]) # from previous section\n",
        "out = Dense(32, activation='tanh')(out)\n",
        "out = Dense(13, activation='softmax')(out)"
      ],
      "execution_count": 6,
      "outputs": []
    },
    {
      "cell_type": "code",
      "metadata": {
        "id": "qhamISg1_5RY",
        "colab_type": "code",
        "colab": {}
      },
      "source": [
        "from keras.models import Model\n",
        "from keras.optimizers import Adam\n",
        "\n",
        "# The CNN\n",
        "#im_input = # ... code from above\n",
        "\n",
        "# The question network\n",
        "#q_input = # ... code from above\n",
        "\n",
        "# Merge -> output\n",
        "#out = # ... code from above\n",
        "\n",
        "model = Model(inputs=[im_input, q_input], outputs=out)\n",
        "model.compile(\n",
        "  Adam(lr=2e-4), # somewhat arbitrarily chosen\n",
        "  loss='categorical_crossentropy',\n",
        "  metrics=['accuracy'],\n",
        ")"
      ],
      "execution_count": 7,
      "outputs": []
    },
    {
      "cell_type": "markdown",
      "metadata": {
        "id": "p2DzGJgD6AF9",
        "colab_type": "text"
      },
      "source": [
        "**The Data Processing**\n",
        "\n",
        "Now that we’ve got our model figured out, we just need a bit more code to get all our data ready. "
      ]
    },
    {
      "cell_type": "code",
      "metadata": {
        "id": "BWsaelh6GPHA",
        "colab_type": "code",
        "colab": {}
      },
      "source": [
        "from easy_vqa import get_train_questions, get_test_questions, get_answers\n",
        "\n",
        "# Read question data\n",
        "# (we already did this in the BOW section, remember?)\n",
        "train_qs, train_answers, train_image_ids = get_train_questions()\n",
        "test_qs, test_answers, test_image_ids = get_test_questions()\n",
        "\n",
        "# Read answer data\n",
        "all_answers = get_answers()"
      ],
      "execution_count": 8,
      "outputs": []
    },
    {
      "cell_type": "code",
      "metadata": {
        "id": "-TxdcTqqGfTs",
        "colab_type": "code",
        "colab": {}
      },
      "source": [
        "from easy_vqa import get_train_image_paths, get_test_image_paths\n",
        "from keras.preprocessing.image import load_img, img_to_array\n",
        "\n",
        "def load_and_proccess_image(image_path):\n",
        "  # Load image, then scale and shift pixel values to [-0.5, 0.5]\n",
        "  im = img_to_array(load_img(image_path))\n",
        "  return im / 255 - 0.5\n",
        "\n",
        "def read_images(paths):\n",
        "  # paths is a dict mapping image ID to image path\n",
        "  # Returns a dict mapping image ID to the processed image\n",
        "  ims = {}\n",
        "  for image_id, image_path in paths.items():\n",
        "    ims[image_id] = load_and_proccess_image(image_path)\n",
        "  return ims\n",
        "\n",
        "train_ims = read_images(get_train_image_paths())\n",
        "test_ims = read_images(get_test_image_paths())"
      ],
      "execution_count": 9,
      "outputs": []
    },
    {
      "cell_type": "code",
      "metadata": {
        "id": "ECb1KTOXGjts",
        "colab_type": "code",
        "colab": {}
      },
      "source": [
        "from keras.utils import to_categorical\n",
        "\n",
        "# Create model input images\n",
        "train_X_ims = [train_ims[id] for id in train_image_ids]\n",
        "test_X_ims = [test_ims[id] for id in test_image_ids]\n",
        "\n",
        "# Create model outputs\n",
        "train_answer_indices = [all_answers.index(a) for a in train_answers]\n",
        "test_answer_indices = [all_answers.index(a) for a in test_answers]\n",
        "train_Y = to_categorical(train_answer_indices)\n",
        "test_Y = to_categorical(test_answer_indices)"
      ],
      "execution_count": 10,
      "outputs": []
    },
    {
      "cell_type": "code",
      "metadata": {
        "id": "gx2tlIjFGoaj",
        "colab_type": "code",
        "colab": {}
      },
      "source": [
        "from keras.callbacks import ModelCheckpoint\n",
        "\n",
        "checkpoint = ModelCheckpoint('model.h5', save_best_only=True)"
      ],
      "execution_count": 11,
      "outputs": []
    },
    {
      "cell_type": "markdown",
      "metadata": {
        "id": "oyfP0QdI6s4s",
        "colab_type": "text"
      },
      "source": [
        "**Training Model**"
      ]
    },
    {
      "cell_type": "code",
      "metadata": {
        "id": "efR_92ozGsm7",
        "colab_type": "code",
        "colab": {
          "base_uri": "https://localhost:8080/",
          "height": 884
        },
        "outputId": "4bcfc298-9777-4117-9c15-1690bf31789b"
      },
      "source": [
        "# Train the model!\n",
        "h=model.fit(\n",
        "  # Reminder: train_X_seqs is from this post's BOW section\n",
        "  [train_X_ims, train_X_seqs],\n",
        "  train_Y,\n",
        "  validation_data=([test_X_ims, test_X_seqs], test_Y),\n",
        "  shuffle=True,\n",
        "  epochs=25, # somewhat arbitrary, try more epochs if you have time!\n",
        "  callbacks=[checkpoint],\n",
        ")"
      ],
      "execution_count": 12,
      "outputs": [
        {
          "output_type": "stream",
          "text": [
            "Train on 38575 samples, validate on 9673 samples\n",
            "Epoch 1/25\n",
            "38575/38575 [==============================] - 14s 359us/step - loss: 1.0538 - accuracy: 0.6221 - val_loss: 0.7890 - val_accuracy: 0.6699\n",
            "Epoch 2/25\n",
            "38575/38575 [==============================] - 8s 197us/step - loss: 0.7717 - accuracy: 0.6734 - val_loss: 0.7379 - val_accuracy: 0.6875\n",
            "Epoch 3/25\n",
            "38575/38575 [==============================] - 8s 210us/step - loss: 0.7197 - accuracy: 0.6965 - val_loss: 0.6790 - val_accuracy: 0.7271\n",
            "Epoch 4/25\n",
            "38575/38575 [==============================] - 8s 201us/step - loss: 0.6533 - accuracy: 0.7393 - val_loss: 0.6118 - val_accuracy: 0.7625\n",
            "Epoch 5/25\n",
            "38575/38575 [==============================] - 8s 197us/step - loss: 0.5946 - accuracy: 0.7573 - val_loss: 0.5723 - val_accuracy: 0.7669\n",
            "Epoch 6/25\n",
            "38575/38575 [==============================] - 7s 194us/step - loss: 0.5543 - accuracy: 0.7684 - val_loss: 0.5429 - val_accuracy: 0.7725\n",
            "Epoch 7/25\n",
            "38575/38575 [==============================] - 8s 196us/step - loss: 0.5220 - accuracy: 0.7757 - val_loss: 0.5210 - val_accuracy: 0.7728\n",
            "Epoch 8/25\n",
            "38575/38575 [==============================] - 8s 195us/step - loss: 0.4933 - accuracy: 0.7816 - val_loss: 0.4941 - val_accuracy: 0.7793\n",
            "Epoch 9/25\n",
            "38575/38575 [==============================] - 8s 199us/step - loss: 0.4668 - accuracy: 0.7860 - val_loss: 0.4763 - val_accuracy: 0.7791\n",
            "Epoch 10/25\n",
            "38575/38575 [==============================] - 7s 194us/step - loss: 0.4366 - accuracy: 0.7911 - val_loss: 0.4579 - val_accuracy: 0.7838\n",
            "Epoch 11/25\n",
            "38575/38575 [==============================] - 7s 191us/step - loss: 0.4072 - accuracy: 0.8039 - val_loss: 0.4257 - val_accuracy: 0.7986\n",
            "Epoch 12/25\n",
            "38575/38575 [==============================] - 7s 189us/step - loss: 0.3779 - accuracy: 0.8223 - val_loss: 0.4099 - val_accuracy: 0.8080\n",
            "Epoch 13/25\n",
            "38575/38575 [==============================] - 7s 191us/step - loss: 0.3535 - accuracy: 0.8373 - val_loss: 0.3898 - val_accuracy: 0.8152\n",
            "Epoch 14/25\n",
            "38575/38575 [==============================] - 7s 193us/step - loss: 0.3313 - accuracy: 0.8518 - val_loss: 0.3777 - val_accuracy: 0.8248\n",
            "Epoch 15/25\n",
            "38575/38575 [==============================] - 7s 189us/step - loss: 0.3127 - accuracy: 0.8600 - val_loss: 0.3662 - val_accuracy: 0.8340\n",
            "Epoch 16/25\n",
            "38575/38575 [==============================] - 7s 187us/step - loss: 0.2959 - accuracy: 0.8676 - val_loss: 0.3651 - val_accuracy: 0.8315\n",
            "Epoch 17/25\n",
            "38575/38575 [==============================] - 7s 188us/step - loss: 0.2793 - accuracy: 0.8740 - val_loss: 0.3551 - val_accuracy: 0.8391\n",
            "Epoch 18/25\n",
            "38575/38575 [==============================] - 7s 188us/step - loss: 0.2648 - accuracy: 0.8802 - val_loss: 0.3445 - val_accuracy: 0.8424\n",
            "Epoch 19/25\n",
            "38575/38575 [==============================] - 7s 191us/step - loss: 0.2508 - accuracy: 0.8880 - val_loss: 0.3380 - val_accuracy: 0.8453\n",
            "Epoch 20/25\n",
            "38575/38575 [==============================] - 7s 193us/step - loss: 0.2383 - accuracy: 0.8944 - val_loss: 0.3488 - val_accuracy: 0.8402\n",
            "Epoch 21/25\n",
            "38575/38575 [==============================] - 7s 189us/step - loss: 0.2274 - accuracy: 0.8977 - val_loss: 0.3404 - val_accuracy: 0.8444\n",
            "Epoch 22/25\n",
            "38575/38575 [==============================] - 7s 186us/step - loss: 0.2149 - accuracy: 0.9068 - val_loss: 0.3453 - val_accuracy: 0.8445\n",
            "Epoch 23/25\n",
            "38575/38575 [==============================] - 7s 186us/step - loss: 0.2046 - accuracy: 0.9118 - val_loss: 0.3337 - val_accuracy: 0.8504\n",
            "Epoch 24/25\n",
            "38575/38575 [==============================] - 7s 187us/step - loss: 0.1930 - accuracy: 0.9166 - val_loss: 0.3375 - val_accuracy: 0.8523\n",
            "Epoch 25/25\n",
            "38575/38575 [==============================] - 7s 188us/step - loss: 0.1823 - accuracy: 0.9234 - val_loss: 0.3332 - val_accuracy: 0.8571\n"
          ],
          "name": "stdout"
        }
      ]
    },
    {
      "cell_type": "markdown",
      "metadata": {
        "id": "a1cPS6ip6_hi",
        "colab_type": "text"
      },
      "source": [
        "**Plotting Results**"
      ]
    },
    {
      "cell_type": "code",
      "metadata": {
        "id": "cyWhHuNZLkAS",
        "colab_type": "code",
        "colab": {
          "base_uri": "https://localhost:8080/",
          "height": 325
        },
        "outputId": "05b09799-0c32-46ee-e165-65cf6790abf3"
      },
      "source": [
        "import matplotlib.pyplot as plt\n",
        "%matplotlib inline\n",
        "plt.style.use(\"fivethirtyeight\")\n",
        "\n",
        "#Plotting the trend of model accuracy\n",
        "\n",
        "plt.plot(h.history[\"accuracy\"])\n",
        "plt.plot(h.history[\"val_accuracy\"])\n",
        "plt.title(\"Model Accuracy\")\n",
        "plt.xlabel(\"Epochs\")\n",
        "plt.ylabel(\"Accuracy\")\n",
        "plt.legend([\"Train\",\"Val\"],loc=\"upper right\")\n",
        "plt.show()"
      ],
      "execution_count": 15,
      "outputs": [
        {
          "output_type": "display_data",
          "data": {
            "image/png": "[encoded data removed]",
            "text/plain": [
              "<Figure size 432x288 with 1 Axes>"
            ]
          },
          "metadata": {
            "tags": []
          }
        }
      ]
    },
    {
      "cell_type": "code",
      "metadata": {
        "id": "Tz9eMOxvMQSf",
        "colab_type": "code",
        "colab": {
          "base_uri": "https://localhost:8080/",
          "height": 325
        },
        "outputId": "c1025ddb-21d1-4c0d-a8cf-3cd4001638a7"
      },
      "source": [
        "#Plotting the trend of model loss\n",
        "\n",
        "plt.plot(h.history[\"loss\"])\n",
        "plt.plot(h.history[\"val_loss\"])\n",
        "plt.title(\"Model Loss\")\n",
        "plt.xlabel(\"Epochs\")\n",
        "plt.ylabel(\"Loss\")\n",
        "plt.legend([\"Train\",\"Val\"],loc=\"upper right\")\n",
        "plt.show()"
      ],
      "execution_count": 16,
      "outputs": [
        {
          "output_type": "display_data",
          "data": {
            "image/png": "[encoded data removed]",
            "text/plain": [
              "<Figure size 432x288 with 1 Axes>"
            ]
          },
          "metadata": {
            "tags": []
          }
        }
      ]
    }
  ]
}